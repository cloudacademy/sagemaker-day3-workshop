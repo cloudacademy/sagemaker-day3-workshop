{
 "cells": [
  {
   "cell_type": "markdown",
   "id": "b7991ad0",
   "metadata": {},
   "source": [
    "The lab provides you with a web browser integrated development environment with lab.ipynb empty Jupyter notebook to execute instructions."
   ]
  },
  {
   "cell_type": "code",
   "execution_count": null,
   "id": "559a4326",
   "metadata": {},
   "outputs": [],
   "source": [
    "print(\"hello world\")"
   ]
  }
 ],
 "metadata": {
  "kernelspec": {
   "display_name": "Python 3 (ipykernel)",
   "language": "python",
   "name": "python3"
  },
  "language_info": {
   "codemirror_mode": {
    "name": "ipython",
    "version": 3
   },
   "file_extension": ".py",
   "mimetype": "text/x-python",
   "name": "python",
   "nbconvert_exporter": "python",
   "pygments_lexer": "ipython3",
   "version": "3.9.6"
  }
 },
 "nbformat": 4,
 "nbformat_minor": 5
}
